{
 "cells": [
  {
   "cell_type": "markdown",
   "id": "7dcdea1e-501f-4cf7-b995-04d6c4b011a5",
   "metadata": {},
   "source": [
    "In this study, my objective is to leverage a supervised machine learning algorithm to predict the future categorization of customers. This categorization is based on the eight distinct customer segments identified through our preceding cluster analysis."
   ]
  },
  {
   "cell_type": "code",
   "execution_count": 26,
   "id": "66ca1bc8-6752-43e1-b815-50594183cb50",
   "metadata": {},
   "outputs": [],
   "source": [
    "# Import Libraries\n",
    "import pandas as pd\n",
    "import numpy as np\n",
    "import seaborn as sns\n",
    "import matplotlib.pyplot as plt\n",
    "\n",
    "from sklearn.preprocessing import StandardScaler\n",
    "from sklearn.model_selection import train_test_split, GridSearchCV\n",
    "from sklearn.pipeline import Pipeline\n",
    "\n",
    "from sklearn.neighbors import KNeighborsClassifier\n",
    "from sklearn.linear_model import LogisticRegression\n",
    "from sklearn.naive_bayes import MultinomialNB\n",
    "from sklearn.ensemble import RandomForestClassifier, StackingClassifier\n",
    "from sklearn import metrics\n",
    "\n",
    "from sklearn.metrics import (confusion_matrix, ConfusionMatrixDisplay, make_scorer,\n",
    "    accuracy_score, roc_auc_score, recall_score, balanced_accuracy_score,\n",
    "    precision_score, f1_score, RocCurveDisplay)"
   ]
  },
  {
   "cell_type": "code",
   "execution_count": 43,
   "id": "599a0a83-aa9c-4ca2-a496-e9776b180f86",
   "metadata": {},
   "outputs": [
    {
     "data": {
      "text/html": [
       "<div>\n",
       "<style scoped>\n",
       "    .dataframe tbody tr th:only-of-type {\n",
       "        vertical-align: middle;\n",
       "    }\n",
       "\n",
       "    .dataframe tbody tr th {\n",
       "        vertical-align: top;\n",
       "    }\n",
       "\n",
       "    .dataframe thead th {\n",
       "        text-align: right;\n",
       "    }\n",
       "</style>\n",
       "<table border=\"1\" class=\"dataframe\">\n",
       "  <thead>\n",
       "    <tr style=\"text-align: right;\">\n",
       "      <th></th>\n",
       "      <th>recency</th>\n",
       "      <th>frequency_item</th>\n",
       "      <th>frequency_order</th>\n",
       "      <th>monetary</th>\n",
       "      <th>class</th>\n",
       "    </tr>\n",
       "  </thead>\n",
       "  <tbody>\n",
       "    <tr>\n",
       "      <th>0</th>\n",
       "      <td>325</td>\n",
       "      <td>1</td>\n",
       "      <td>1</td>\n",
       "      <td>0.00</td>\n",
       "      <td>1</td>\n",
       "    </tr>\n",
       "    <tr>\n",
       "      <th>1</th>\n",
       "      <td>2</td>\n",
       "      <td>103</td>\n",
       "      <td>7</td>\n",
       "      <td>4310.00</td>\n",
       "      <td>0</td>\n",
       "    </tr>\n",
       "    <tr>\n",
       "      <th>2</th>\n",
       "      <td>75</td>\n",
       "      <td>22</td>\n",
       "      <td>4</td>\n",
       "      <td>1797.24</td>\n",
       "      <td>3</td>\n",
       "    </tr>\n",
       "    <tr>\n",
       "      <th>3</th>\n",
       "      <td>18</td>\n",
       "      <td>73</td>\n",
       "      <td>1</td>\n",
       "      <td>1757.55</td>\n",
       "      <td>3</td>\n",
       "    </tr>\n",
       "    <tr>\n",
       "      <th>4</th>\n",
       "      <td>310</td>\n",
       "      <td>17</td>\n",
       "      <td>1</td>\n",
       "      <td>334.40</td>\n",
       "      <td>1</td>\n",
       "    </tr>\n",
       "  </tbody>\n",
       "</table>\n",
       "</div>"
      ],
      "text/plain": [
       "   recency  frequency_item  frequency_order  monetary  class\n",
       "0      325               1                1      0.00      1\n",
       "1        2             103                7   4310.00      0\n",
       "2       75              22                4   1797.24      3\n",
       "3       18              73                1   1757.55      3\n",
       "4      310              17                1    334.40      1"
      ]
     },
     "execution_count": 43,
     "metadata": {},
     "output_type": "execute_result"
    }
   ],
   "source": [
    "# Import Data\n",
    "customer = pd.read_csv('../data/customer_seg.csv')\n",
    "\n",
    "customer.rename(columns = {'cluster_sec': 'class'}, inplace = True)\n",
    "\n",
    "customer.head()"
   ]
  },
  {
   "cell_type": "code",
   "execution_count": 44,
   "id": "eb3d5d28-a8d3-4ddc-9c9b-747babeb8c17",
   "metadata": {},
   "outputs": [
    {
     "data": {
      "text/plain": [
       "3    0.490436\n",
       "1    0.233925\n",
       "0    0.208343\n",
       "6    0.047246\n",
       "7    0.016363\n",
       "5    0.002305\n",
       "4    0.000691\n",
       "2    0.000691\n",
       "Name: class, dtype: float64"
      ]
     },
     "execution_count": 44,
     "metadata": {},
     "output_type": "execute_result"
    }
   ],
   "source": [
    "# Baseline\n",
    "customer['class'].value_counts(normalize = True)"
   ]
  },
  {
   "cell_type": "markdown",
   "id": "666f224d-bbc4-4432-93ca-13775c6d564a",
   "metadata": {},
   "source": [
    "### Split Data"
   ]
  },
  {
   "cell_type": "code",
   "execution_count": 45,
   "id": "977e4404-39df-4ab0-aa65-47caa033cd35",
   "metadata": {},
   "outputs": [],
   "source": [
    "X = customer.drop(columns = ['class'])\n",
    "y = customer['class']"
   ]
  },
  {
   "cell_type": "code",
   "execution_count": 46,
   "id": "688e7a34-a923-4a75-83b1-01d9ef3162af",
   "metadata": {},
   "outputs": [],
   "source": [
    "X_train, X_test, y_train, y_test = train_test_split(X, y, random_state = 42, stratify = y)"
   ]
  },
  {
   "cell_type": "markdown",
   "id": "88d0d99d-f5c4-47ca-ac60-b5df5c0f9ba8",
   "metadata": {},
   "source": [
    "### Evaluation Function"
   ]
  },
  {
   "cell_type": "code",
   "execution_count": 47,
   "id": "ebfdc0f1-235b-466f-b931-fa50410b8c76",
   "metadata": {},
   "outputs": [],
   "source": [
    "# Create evaluation function\n",
    "def evaluation(X_test, y_test, preds, model):\n",
    "    ConfusionMatrixDisplay.from_estimator(model, X_test, y_test, cmap='Blues')\n",
    "    \n",
    "    b_acc = balanced_accuracy_score(y_test, preds)\n",
    "    # Use weighted to handle unbalanced data\n",
    "    recall = recall_score(y_test, preds, average = 'weighted')\n",
    "    prec = precision_score(y_test, preds, average = 'weighted')\n",
    "    f1 = f1_score(y_test, preds, average = 'weighted')\n",
    "\n",
    "    print(f'balanced_accuracy: {b_acc}')\n",
    "    print(f'recall: {recall}')\n",
    "    print(f'precision: {prec}')\n",
    "    print(f'f1 score: {f1}')\n",
    "\n",
    "    return {\n",
    "        'balanced_accuracy': b_acc,\n",
    "        'recall': recall,\n",
    "        'precision': prec,\n",
    "        'f1_score': f1\n",
    "    }\n",
    "\n",
    "scores = []"
   ]
  },
  {
   "cell_type": "markdown",
   "id": "2f92adc7-7267-4cf0-96d5-b67bb8372eba",
   "metadata": {},
   "source": [
    "### Logistic Regression"
   ]
  },
  {
   "cell_type": "code",
   "execution_count": 48,
   "id": "08cec6b8-c6ab-4c11-8765-21a0c3454f1e",
   "metadata": {},
   "outputs": [],
   "source": [
    "pipe_lgr = Pipeline(steps = [\n",
    "    ('scaler', StandardScaler()),\n",
    "    ('model', LogisticRegression(random_state = 42))\n",
    "])"
   ]
  },
  {
   "cell_type": "code",
   "execution_count": 49,
   "id": "1db6314a-b943-4cba-ac32-63e48b193cab",
   "metadata": {},
   "outputs": [],
   "source": [
    "lg_params = {\n",
    "    'model__penalty': ['l2'],\n",
    "    'model__max_iter': [1000]\n",
    "}"
   ]
  },
  {
   "cell_type": "code",
   "execution_count": 50,
   "id": "3f19ede1-680c-4144-bc57-23ec1c89cce9",
   "metadata": {},
   "outputs": [],
   "source": [
    "gs_lg = GridSearchCV(pipe_lgr, param_grid = lg_params, cv = 5)"
   ]
  },
  {
   "cell_type": "code",
   "execution_count": 51,
   "id": "80dfcf00-f998-4b51-96a7-57dccfb59f11",
   "metadata": {},
   "outputs": [
    {
     "name": "stderr",
     "output_type": "stream",
     "text": [
      "/Users/ranma/opt/anaconda3/lib/python3.9/site-packages/sklearn/model_selection/_split.py:676: UserWarning: The least populated class in y has only 2 members, which is less than n_splits=5.\n",
      "  warnings.warn(\n"
     ]
    },
    {
     "data": {
      "text/plain": [
       "GridSearchCV(cv=5,\n",
       "             estimator=Pipeline(steps=[('scaler', StandardScaler()),\n",
       "                                       ('model',\n",
       "                                        LogisticRegression(random_state=42))]),\n",
       "             param_grid={'model__max_iter': [1000], 'model__penalty': ['l2']})"
      ]
     },
     "execution_count": 51,
     "metadata": {},
     "output_type": "execute_result"
    }
   ],
   "source": [
    "gs_lg.fit(X_train, y_train)"
   ]
  },
  {
   "cell_type": "code",
   "execution_count": 52,
   "id": "1466dc88-a94b-4f44-9d07-a3b6820f5d08",
   "metadata": {},
   "outputs": [
    {
     "name": "stdout",
     "output_type": "stream",
     "text": [
      "balanced_accuracy: 0.9198763843293596\n",
      "recall: 0.9870967741935484\n",
      "precision: 0.9871122403646938\n",
      "f1 score: 0.9869239310736021\n"
     ]
    },
    {
     "data": {
      "image/png": "[encoded data removed]",
      "text/plain": [
       "<Figure size 640x480 with 2 Axes>"
      ]
     },
     "metadata": {},
     "output_type": "display_data"
    }
   ],
   "source": [
    "scores.append(evaluation(X_test, y_test, gs_lg.predict(X_test), gs_lg))"
   ]
  },
  {
   "cell_type": "code",
   "execution_count": null,
   "id": "b7b4dd04-d3dd-4e47-ab9f-e266f1f316d6",
   "metadata": {},
   "outputs": [],
   "source": []
  }
 ],
 "metadata": {
  "kernelspec": {
   "display_name": "Python 3 (ipykernel)",
   "language": "python",
   "name": "python3"
  },
  "language_info": {
   "codemirror_mode": {
    "name": "ipython",
    "version": 3
   },
   "file_extension": ".py",
   "mimetype": "text/x-python",
   "name": "python",
   "nbconvert_exporter": "python",
   "pygments_lexer": "ipython3",
   "version": "3.9.13"
  }
 },
 "nbformat": 4,
 "nbformat_minor": 5
}
