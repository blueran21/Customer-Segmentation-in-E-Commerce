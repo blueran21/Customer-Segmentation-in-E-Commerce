{
 "cells": [
  {
   "cell_type": "code",
   "execution_count": 1,
   "id": "b68e875b-46cd-4673-b555-5e15ca94ae1f",
   "metadata": {},
   "outputs": [],
   "source": [
    "# Import libraries\n",
    "import pandas as pd\n",
    "import numpy as np\n",
    "import matplotlib.pyplot as plt\n",
    "import seaborn as sns"
   ]
  },
  {
   "cell_type": "code",
   "execution_count": 2,
   "id": "a348a4e9-0ec4-4571-a83d-d208cdba382d",
   "metadata": {},
   "outputs": [],
   "source": [
    "# Import data\n",
    "df = pd.read_excel('../data/Online Retail.xlsx')"
   ]
  },
  {
   "cell_type": "markdown",
   "id": "9d5ba2d3-6f34-4c69-9b80-dd803c639a25",
   "metadata": {},
   "source": [
    "# 1. Data Preparation"
   ]
  },
  {
   "cell_type": "markdown",
   "id": "1a232966-9a17-45f8-aea1-90998798b351",
   "metadata": {},
   "source": [
    "### 1.1 Show dataset"
   ]
  },
  {
   "cell_type": "code",
   "execution_count": 3,
   "id": "daa7cd08-b9e6-418d-ac07-ed70e4c33f92",
   "metadata": {},
   "outputs": [
    {
     "data": {
      "text/html": [
       "<div>\n",
       "<style scoped>\n",
       "    .dataframe tbody tr th:only-of-type {\n",
       "        vertical-align: middle;\n",
       "    }\n",
       "\n",
       "    .dataframe tbody tr th {\n",
       "        vertical-align: top;\n",
       "    }\n",
       "\n",
       "    .dataframe thead th {\n",
       "        text-align: right;\n",
       "    }\n",
       "</style>\n",
       "<table border=\"1\" class=\"dataframe\">\n",
       "  <thead>\n",
       "    <tr style=\"text-align: right;\">\n",
       "      <th></th>\n",
       "      <th>InvoiceNo</th>\n",
       "      <th>StockCode</th>\n",
       "      <th>Description</th>\n",
       "      <th>Quantity</th>\n",
       "      <th>InvoiceDate</th>\n",
       "      <th>UnitPrice</th>\n",
       "      <th>CustomerID</th>\n",
       "      <th>Country</th>\n",
       "    </tr>\n",
       "  </thead>\n",
       "  <tbody>\n",
       "    <tr>\n",
       "      <th>0</th>\n",
       "      <td>536365</td>\n",
       "      <td>85123A</td>\n",
       "      <td>WHITE HANGING HEART T-LIGHT HOLDER</td>\n",
       "      <td>6</td>\n",
       "      <td>2010-12-01 08:26:00</td>\n",
       "      <td>2.55</td>\n",
       "      <td>17850.0</td>\n",
       "      <td>United Kingdom</td>\n",
       "    </tr>\n",
       "    <tr>\n",
       "      <th>1</th>\n",
       "      <td>536365</td>\n",
       "      <td>71053</td>\n",
       "      <td>WHITE METAL LANTERN</td>\n",
       "      <td>6</td>\n",
       "      <td>2010-12-01 08:26:00</td>\n",
       "      <td>3.39</td>\n",
       "      <td>17850.0</td>\n",
       "      <td>United Kingdom</td>\n",
       "    </tr>\n",
       "    <tr>\n",
       "      <th>2</th>\n",
       "      <td>536365</td>\n",
       "      <td>84406B</td>\n",
       "      <td>CREAM CUPID HEARTS COAT HANGER</td>\n",
       "      <td>8</td>\n",
       "      <td>2010-12-01 08:26:00</td>\n",
       "      <td>2.75</td>\n",
       "      <td>17850.0</td>\n",
       "      <td>United Kingdom</td>\n",
       "    </tr>\n",
       "    <tr>\n",
       "      <th>3</th>\n",
       "      <td>536365</td>\n",
       "      <td>84029G</td>\n",
       "      <td>KNITTED UNION FLAG HOT WATER BOTTLE</td>\n",
       "      <td>6</td>\n",
       "      <td>2010-12-01 08:26:00</td>\n",
       "      <td>3.39</td>\n",
       "      <td>17850.0</td>\n",
       "      <td>United Kingdom</td>\n",
       "    </tr>\n",
       "    <tr>\n",
       "      <th>4</th>\n",
       "      <td>536365</td>\n",
       "      <td>84029E</td>\n",
       "      <td>RED WOOLLY HOTTIE WHITE HEART.</td>\n",
       "      <td>6</td>\n",
       "      <td>2010-12-01 08:26:00</td>\n",
       "      <td>3.39</td>\n",
       "      <td>17850.0</td>\n",
       "      <td>United Kingdom</td>\n",
       "    </tr>\n",
       "    <tr>\n",
       "      <th>5</th>\n",
       "      <td>536365</td>\n",
       "      <td>22752</td>\n",
       "      <td>SET 7 BABUSHKA NESTING BOXES</td>\n",
       "      <td>2</td>\n",
       "      <td>2010-12-01 08:26:00</td>\n",
       "      <td>7.65</td>\n",
       "      <td>17850.0</td>\n",
       "      <td>United Kingdom</td>\n",
       "    </tr>\n",
       "    <tr>\n",
       "      <th>6</th>\n",
       "      <td>536365</td>\n",
       "      <td>21730</td>\n",
       "      <td>GLASS STAR FROSTED T-LIGHT HOLDER</td>\n",
       "      <td>6</td>\n",
       "      <td>2010-12-01 08:26:00</td>\n",
       "      <td>4.25</td>\n",
       "      <td>17850.0</td>\n",
       "      <td>United Kingdom</td>\n",
       "    </tr>\n",
       "    <tr>\n",
       "      <th>7</th>\n",
       "      <td>536366</td>\n",
       "      <td>22633</td>\n",
       "      <td>HAND WARMER UNION JACK</td>\n",
       "      <td>6</td>\n",
       "      <td>2010-12-01 08:28:00</td>\n",
       "      <td>1.85</td>\n",
       "      <td>17850.0</td>\n",
       "      <td>United Kingdom</td>\n",
       "    </tr>\n",
       "    <tr>\n",
       "      <th>8</th>\n",
       "      <td>536366</td>\n",
       "      <td>22632</td>\n",
       "      <td>HAND WARMER RED POLKA DOT</td>\n",
       "      <td>6</td>\n",
       "      <td>2010-12-01 08:28:00</td>\n",
       "      <td>1.85</td>\n",
       "      <td>17850.0</td>\n",
       "      <td>United Kingdom</td>\n",
       "    </tr>\n",
       "    <tr>\n",
       "      <th>9</th>\n",
       "      <td>536367</td>\n",
       "      <td>84879</td>\n",
       "      <td>ASSORTED COLOUR BIRD ORNAMENT</td>\n",
       "      <td>32</td>\n",
       "      <td>2010-12-01 08:34:00</td>\n",
       "      <td>1.69</td>\n",
       "      <td>13047.0</td>\n",
       "      <td>United Kingdom</td>\n",
       "    </tr>\n",
       "    <tr>\n",
       "      <th>10</th>\n",
       "      <td>536367</td>\n",
       "      <td>22745</td>\n",
       "      <td>POPPY'S PLAYHOUSE BEDROOM</td>\n",
       "      <td>6</td>\n",
       "      <td>2010-12-01 08:34:00</td>\n",
       "      <td>2.10</td>\n",
       "      <td>13047.0</td>\n",
       "      <td>United Kingdom</td>\n",
       "    </tr>\n",
       "    <tr>\n",
       "      <th>11</th>\n",
       "      <td>536367</td>\n",
       "      <td>22748</td>\n",
       "      <td>POPPY'S PLAYHOUSE KITCHEN</td>\n",
       "      <td>6</td>\n",
       "      <td>2010-12-01 08:34:00</td>\n",
       "      <td>2.10</td>\n",
       "      <td>13047.0</td>\n",
       "      <td>United Kingdom</td>\n",
       "    </tr>\n",
       "    <tr>\n",
       "      <th>12</th>\n",
       "      <td>536367</td>\n",
       "      <td>22749</td>\n",
       "      <td>FELTCRAFT PRINCESS CHARLOTTE DOLL</td>\n",
       "      <td>8</td>\n",
       "      <td>2010-12-01 08:34:00</td>\n",
       "      <td>3.75</td>\n",
       "      <td>13047.0</td>\n",
       "      <td>United Kingdom</td>\n",
       "    </tr>\n",
       "    <tr>\n",
       "      <th>13</th>\n",
       "      <td>536367</td>\n",
       "      <td>22310</td>\n",
       "      <td>IVORY KNITTED MUG COSY</td>\n",
       "      <td>6</td>\n",
       "      <td>2010-12-01 08:34:00</td>\n",
       "      <td>1.65</td>\n",
       "      <td>13047.0</td>\n",
       "      <td>United Kingdom</td>\n",
       "    </tr>\n",
       "    <tr>\n",
       "      <th>14</th>\n",
       "      <td>536367</td>\n",
       "      <td>84969</td>\n",
       "      <td>BOX OF 6 ASSORTED COLOUR TEASPOONS</td>\n",
       "      <td>6</td>\n",
       "      <td>2010-12-01 08:34:00</td>\n",
       "      <td>4.25</td>\n",
       "      <td>13047.0</td>\n",
       "      <td>United Kingdom</td>\n",
       "    </tr>\n",
       "  </tbody>\n",
       "</table>\n",
       "</div>"
      ],
      "text/plain": [
       "   InvoiceNo StockCode                          Description  Quantity  \\\n",
       "0     536365    85123A   WHITE HANGING HEART T-LIGHT HOLDER         6   \n",
       "1     536365     71053                  WHITE METAL LANTERN         6   \n",
       "2     536365    84406B       CREAM CUPID HEARTS COAT HANGER         8   \n",
       "3     536365    84029G  KNITTED UNION FLAG HOT WATER BOTTLE         6   \n",
       "4     536365    84029E       RED WOOLLY HOTTIE WHITE HEART.         6   \n",
       "5     536365     22752         SET 7 BABUSHKA NESTING BOXES         2   \n",
       "6     536365     21730    GLASS STAR FROSTED T-LIGHT HOLDER         6   \n",
       "7     536366     22633               HAND WARMER UNION JACK         6   \n",
       "8     536366     22632            HAND WARMER RED POLKA DOT         6   \n",
       "9     536367     84879        ASSORTED COLOUR BIRD ORNAMENT        32   \n",
       "10    536367     22745           POPPY'S PLAYHOUSE BEDROOM          6   \n",
       "11    536367     22748            POPPY'S PLAYHOUSE KITCHEN         6   \n",
       "12    536367     22749    FELTCRAFT PRINCESS CHARLOTTE DOLL         8   \n",
       "13    536367     22310              IVORY KNITTED MUG COSY          6   \n",
       "14    536367     84969   BOX OF 6 ASSORTED COLOUR TEASPOONS         6   \n",
       "\n",
       "           InvoiceDate  UnitPrice  CustomerID         Country  \n",
       "0  2010-12-01 08:26:00       2.55     17850.0  United Kingdom  \n",
       "1  2010-12-01 08:26:00       3.39     17850.0  United Kingdom  \n",
       "2  2010-12-01 08:26:00       2.75     17850.0  United Kingdom  \n",
       "3  2010-12-01 08:26:00       3.39     17850.0  United Kingdom  \n",
       "4  2010-12-01 08:26:00       3.39     17850.0  United Kingdom  \n",
       "5  2010-12-01 08:26:00       7.65     17850.0  United Kingdom  \n",
       "6  2010-12-01 08:26:00       4.25     17850.0  United Kingdom  \n",
       "7  2010-12-01 08:28:00       1.85     17850.0  United Kingdom  \n",
       "8  2010-12-01 08:28:00       1.85     17850.0  United Kingdom  \n",
       "9  2010-12-01 08:34:00       1.69     13047.0  United Kingdom  \n",
       "10 2010-12-01 08:34:00       2.10     13047.0  United Kingdom  \n",
       "11 2010-12-01 08:34:00       2.10     13047.0  United Kingdom  \n",
       "12 2010-12-01 08:34:00       3.75     13047.0  United Kingdom  \n",
       "13 2010-12-01 08:34:00       1.65     13047.0  United Kingdom  \n",
       "14 2010-12-01 08:34:00       4.25     13047.0  United Kingdom  "
      ]
     },
     "execution_count": 3,
     "metadata": {},
     "output_type": "execute_result"
    }
   ],
   "source": [
    "df.head(15)"
   ]
  },
  {
   "cell_type": "code",
   "execution_count": 4,
   "id": "b9784e2e-80a0-439d-be02-9fa860de3e97",
   "metadata": {},
   "outputs": [
    {
     "data": {
      "text/plain": [
       "(541909, 8)"
      ]
     },
     "execution_count": 4,
     "metadata": {},
     "output_type": "execute_result"
    }
   ],
   "source": [
    "df.shape"
   ]
  },
  {
   "cell_type": "markdown",
   "id": "550e9200-2970-4434-bfc6-32eadd0beb99",
   "metadata": {},
   "source": [
    "There are 541,909 rows and 8 columns in the original dataset"
   ]
  },
  {
   "cell_type": "markdown",
   "id": "fb08c246-70d3-4e10-8f71-2dd34b22f5c1",
   "metadata": {},
   "source": [
    "### 1.2 Check missing values"
   ]
  },
  {
   "cell_type": "code",
   "execution_count": 5,
   "id": "de9b6aff-7570-4526-81f1-9074a9bc788d",
   "metadata": {},
   "outputs": [
    {
     "name": "stdout",
     "output_type": "stream",
     "text": [
      "<class 'pandas.core.frame.DataFrame'>\n",
      "RangeIndex: 541909 entries, 0 to 541908\n",
      "Data columns (total 8 columns):\n",
      " #   Column       Non-Null Count   Dtype         \n",
      "---  ------       --------------   -----         \n",
      " 0   InvoiceNo    541909 non-null  object        \n",
      " 1   StockCode    541909 non-null  object        \n",
      " 2   Description  540455 non-null  object        \n",
      " 3   Quantity     541909 non-null  int64         \n",
      " 4   InvoiceDate  541909 non-null  datetime64[ns]\n",
      " 5   UnitPrice    541909 non-null  float64       \n",
      " 6   CustomerID   406829 non-null  float64       \n",
      " 7   Country      541909 non-null  object        \n",
      "dtypes: datetime64[ns](1), float64(2), int64(1), object(4)\n",
      "memory usage: 33.1+ MB\n"
     ]
    }
   ],
   "source": [
    "df.info()"
   ]
  },
  {
   "cell_type": "code",
   "execution_count": 6,
   "id": "83df1601-1f5a-4a6c-a52a-a3bd9a7239b8",
   "metadata": {},
   "outputs": [
    {
     "data": {
      "text/plain": [
       "InvoiceNo           0\n",
       "StockCode           0\n",
       "Description      1454\n",
       "Quantity            0\n",
       "InvoiceDate         0\n",
       "UnitPrice           0\n",
       "CustomerID     135080\n",
       "Country             0\n",
       "dtype: int64"
      ]
     },
     "execution_count": 6,
     "metadata": {},
     "output_type": "execute_result"
    }
   ],
   "source": [
    "df.isnull().sum()"
   ]
  },
  {
   "cell_type": "markdown",
   "id": "5215e0bc-35f6-4f4b-a585-84e43bdf6165",
   "metadata": {},
   "source": [
    "In the dataset, we encounter two columns - \"Description\" and \"CustomerID\" - that contain missing values. Given that we cannot reasonably infer missing \"CustomerID\" values - perhaps these visitors have not registered or logged into the website - we've decided to remove these rows. Our analysis will then concentrate on customers who have logged in and are identifiable via the website."
   ]
  },
  {
   "cell_type": "markdown",
   "id": "797b7c0e-9001-48c6-ad84-bf337db06251",
   "metadata": {},
   "source": [
    "### 1.3 Delete rows without customer_id"
   ]
  },
  {
   "cell_type": "code",
   "execution_count": 7,
   "id": "2c513382-d9fa-4085-894f-a97d5962c5c9",
   "metadata": {},
   "outputs": [],
   "source": [
    "df.dropna(subset=['CustomerID'], inplace = True)"
   ]
  },
  {
   "cell_type": "code",
   "execution_count": 8,
   "id": "6a2110fa-d3dc-4ccd-b6a4-ffb8aea7e725",
   "metadata": {},
   "outputs": [
    {
     "name": "stdout",
     "output_type": "stream",
     "text": [
      "<class 'pandas.core.frame.DataFrame'>\n",
      "Int64Index: 406829 entries, 0 to 541908\n",
      "Data columns (total 8 columns):\n",
      " #   Column       Non-Null Count   Dtype         \n",
      "---  ------       --------------   -----         \n",
      " 0   InvoiceNo    406829 non-null  object        \n",
      " 1   StockCode    406829 non-null  object        \n",
      " 2   Description  406829 non-null  object        \n",
      " 3   Quantity     406829 non-null  int64         \n",
      " 4   InvoiceDate  406829 non-null  datetime64[ns]\n",
      " 5   UnitPrice    406829 non-null  float64       \n",
      " 6   CustomerID   406829 non-null  float64       \n",
      " 7   Country      406829 non-null  object        \n",
      "dtypes: datetime64[ns](1), float64(2), int64(1), object(4)\n",
      "memory usage: 27.9+ MB\n"
     ]
    }
   ],
   "source": [
    "df.info()"
   ]
  },
  {
   "cell_type": "code",
   "execution_count": 9,
   "id": "3d04b9cf-740e-430c-b3b7-91354067652d",
   "metadata": {},
   "outputs": [
    {
     "data": {
      "text/plain": [
       "InvoiceNo      0\n",
       "StockCode      0\n",
       "Description    0\n",
       "Quantity       0\n",
       "InvoiceDate    0\n",
       "UnitPrice      0\n",
       "CustomerID     0\n",
       "Country        0\n",
       "dtype: int64"
      ]
     },
     "execution_count": 9,
     "metadata": {},
     "output_type": "execute_result"
    }
   ],
   "source": [
    "df.isna().sum()"
   ]
  },
  {
   "cell_type": "markdown",
   "id": "182f768f-ae2d-4773-9029-58f75deb9623",
   "metadata": {},
   "source": [
    "### 1.4 Check and remove duplicated observations"
   ]
  },
  {
   "cell_type": "code",
   "execution_count": 10,
   "id": "a93d8c66-51cf-4ebd-8fde-102c643e8c3f",
   "metadata": {},
   "outputs": [
    {
     "data": {
      "text/plain": [
       "5225"
      ]
     },
     "execution_count": 10,
     "metadata": {},
     "output_type": "execute_result"
    }
   ],
   "source": [
    "df.duplicated().sum()"
   ]
  },
  {
   "cell_type": "code",
   "execution_count": 11,
   "id": "dca1358f-7616-4c36-ae44-18b9376ac283",
   "metadata": {},
   "outputs": [],
   "source": [
    "df.drop_duplicates(inplace = True)"
   ]
  },
  {
   "cell_type": "code",
   "execution_count": 12,
   "id": "6650dc8a-bdca-433e-a36f-327191f9c250",
   "metadata": {},
   "outputs": [
    {
     "data": {
      "text/plain": [
       "0"
      ]
     },
     "execution_count": 12,
     "metadata": {},
     "output_type": "execute_result"
    }
   ],
   "source": [
    "df.duplicated().sum()"
   ]
  },
  {
   "cell_type": "code",
   "execution_count": 13,
   "id": "d95b4795-1611-46b3-bc42-1393c1c9b857",
   "metadata": {},
   "outputs": [
    {
     "data": {
      "text/plain": [
       "(401604, 8)"
      ]
     },
     "execution_count": 13,
     "metadata": {},
     "output_type": "execute_result"
    }
   ],
   "source": [
    "df.shape"
   ]
  },
  {
   "cell_type": "markdown",
   "id": "d0db85e1-6afb-4723-a6b1-575a671f1965",
   "metadata": {},
   "source": [
    "The cleaning dataset contains 401604 rows and 8 columns without any missing values"
   ]
  },
  {
   "cell_type": "markdown",
   "id": "9c7a1d3b-ed32-4942-8e82-79708aa1bd8c",
   "metadata": {},
   "source": [
    "# 2. Data Type Conversion"
   ]
  },
  {
   "cell_type": "code",
   "execution_count": 43,
   "id": "9c796b50-061c-427f-b0af-c2ef0fe8abca",
   "metadata": {},
   "outputs": [],
   "source": [
    "df_cleaning = df.copy()"
   ]
  },
  {
   "cell_type": "code",
   "execution_count": 44,
   "id": "e1267c10-30d4-4c5f-856f-d434e4f7b299",
   "metadata": {},
   "outputs": [
    {
     "data": {
      "text/html": [
       "<div>\n",
       "<style scoped>\n",
       "    .dataframe tbody tr th:only-of-type {\n",
       "        vertical-align: middle;\n",
       "    }\n",
       "\n",
       "    .dataframe tbody tr th {\n",
       "        vertical-align: top;\n",
       "    }\n",
       "\n",
       "    .dataframe thead th {\n",
       "        text-align: right;\n",
       "    }\n",
       "</style>\n",
       "<table border=\"1\" class=\"dataframe\">\n",
       "  <thead>\n",
       "    <tr style=\"text-align: right;\">\n",
       "      <th></th>\n",
       "      <th>InvoiceNo</th>\n",
       "      <th>StockCode</th>\n",
       "      <th>Description</th>\n",
       "      <th>Quantity</th>\n",
       "      <th>InvoiceDate</th>\n",
       "      <th>UnitPrice</th>\n",
       "      <th>CustomerID</th>\n",
       "      <th>Country</th>\n",
       "    </tr>\n",
       "  </thead>\n",
       "  <tbody>\n",
       "    <tr>\n",
       "      <th>0</th>\n",
       "      <td>536365</td>\n",
       "      <td>85123A</td>\n",
       "      <td>WHITE HANGING HEART T-LIGHT HOLDER</td>\n",
       "      <td>6</td>\n",
       "      <td>2010-12-01 08:26:00</td>\n",
       "      <td>2.55</td>\n",
       "      <td>17850.0</td>\n",
       "      <td>United Kingdom</td>\n",
       "    </tr>\n",
       "    <tr>\n",
       "      <th>1</th>\n",
       "      <td>536365</td>\n",
       "      <td>71053</td>\n",
       "      <td>WHITE METAL LANTERN</td>\n",
       "      <td>6</td>\n",
       "      <td>2010-12-01 08:26:00</td>\n",
       "      <td>3.39</td>\n",
       "      <td>17850.0</td>\n",
       "      <td>United Kingdom</td>\n",
       "    </tr>\n",
       "    <tr>\n",
       "      <th>2</th>\n",
       "      <td>536365</td>\n",
       "      <td>84406B</td>\n",
       "      <td>CREAM CUPID HEARTS COAT HANGER</td>\n",
       "      <td>8</td>\n",
       "      <td>2010-12-01 08:26:00</td>\n",
       "      <td>2.75</td>\n",
       "      <td>17850.0</td>\n",
       "      <td>United Kingdom</td>\n",
       "    </tr>\n",
       "    <tr>\n",
       "      <th>3</th>\n",
       "      <td>536365</td>\n",
       "      <td>84029G</td>\n",
       "      <td>KNITTED UNION FLAG HOT WATER BOTTLE</td>\n",
       "      <td>6</td>\n",
       "      <td>2010-12-01 08:26:00</td>\n",
       "      <td>3.39</td>\n",
       "      <td>17850.0</td>\n",
       "      <td>United Kingdom</td>\n",
       "    </tr>\n",
       "    <tr>\n",
       "      <th>4</th>\n",
       "      <td>536365</td>\n",
       "      <td>84029E</td>\n",
       "      <td>RED WOOLLY HOTTIE WHITE HEART.</td>\n",
       "      <td>6</td>\n",
       "      <td>2010-12-01 08:26:00</td>\n",
       "      <td>3.39</td>\n",
       "      <td>17850.0</td>\n",
       "      <td>United Kingdom</td>\n",
       "    </tr>\n",
       "  </tbody>\n",
       "</table>\n",
       "</div>"
      ],
      "text/plain": [
       "  InvoiceNo StockCode                          Description  Quantity  \\\n",
       "0    536365    85123A   WHITE HANGING HEART T-LIGHT HOLDER         6   \n",
       "1    536365     71053                  WHITE METAL LANTERN         6   \n",
       "2    536365    84406B       CREAM CUPID HEARTS COAT HANGER         8   \n",
       "3    536365    84029G  KNITTED UNION FLAG HOT WATER BOTTLE         6   \n",
       "4    536365    84029E       RED WOOLLY HOTTIE WHITE HEART.         6   \n",
       "\n",
       "          InvoiceDate  UnitPrice  CustomerID         Country  \n",
       "0 2010-12-01 08:26:00       2.55     17850.0  United Kingdom  \n",
       "1 2010-12-01 08:26:00       3.39     17850.0  United Kingdom  \n",
       "2 2010-12-01 08:26:00       2.75     17850.0  United Kingdom  \n",
       "3 2010-12-01 08:26:00       3.39     17850.0  United Kingdom  \n",
       "4 2010-12-01 08:26:00       3.39     17850.0  United Kingdom  "
      ]
     },
     "execution_count": 44,
     "metadata": {},
     "output_type": "execute_result"
    }
   ],
   "source": [
    "df_cleaning.head()"
   ]
  },
  {
   "cell_type": "markdown",
   "id": "5989201e-6c73-4b2b-92c9-fb0bc74fefef",
   "metadata": {},
   "source": [
    "### 2.1 InvoiceNo: Invoice number. Nominal, a 6-digit integral number uniquely assigned to each transaction. If this code starts with letter 'c', it indicates a cancellation. "
   ]
  },
  {
   "cell_type": "markdown",
   "id": "e8040e59-7a72-4b0e-9e15-b16528c8d406",
   "metadata": {},
   "source": [
    "To handle the InvoiceNo column that contains both integers and strings, it's necessary to first convert the entire column to a uniform data type, specifically, to string."
   ]
  },
  {
   "cell_type": "code",
   "execution_count": 45,
   "id": "335dcca5-cfb5-4a07-9b0e-46c994b11ecb",
   "metadata": {},
   "outputs": [
    {
     "data": {
      "text/plain": [
       "dtype('O')"
      ]
     },
     "execution_count": 45,
     "metadata": {},
     "output_type": "execute_result"
    }
   ],
   "source": [
    "# Convert the column to string\n",
    "df_cleaning['InvoiceNo'] = df_cleaning['InvoiceNo'].astype('str')\n",
    "\n",
    "df_cleaning['InvoiceNo'].dtypes"
   ]
  },
  {
   "cell_type": "code",
   "execution_count": 46,
   "id": "98c4d4bd-66b0-46dc-ab67-08a8b1e064db",
   "metadata": {},
   "outputs": [
    {
     "data": {
      "text/html": [
       "<div>\n",
       "<style scoped>\n",
       "    .dataframe tbody tr th:only-of-type {\n",
       "        vertical-align: middle;\n",
       "    }\n",
       "\n",
       "    .dataframe tbody tr th {\n",
       "        vertical-align: top;\n",
       "    }\n",
       "\n",
       "    .dataframe thead th {\n",
       "        text-align: right;\n",
       "    }\n",
       "</style>\n",
       "<table border=\"1\" class=\"dataframe\">\n",
       "  <thead>\n",
       "    <tr style=\"text-align: right;\">\n",
       "      <th></th>\n",
       "      <th>InvoiceNo</th>\n",
       "      <th>StockCode</th>\n",
       "      <th>Description</th>\n",
       "      <th>Quantity</th>\n",
       "      <th>InvoiceDate</th>\n",
       "      <th>UnitPrice</th>\n",
       "      <th>CustomerID</th>\n",
       "      <th>Country</th>\n",
       "    </tr>\n",
       "  </thead>\n",
       "  <tbody>\n",
       "    <tr>\n",
       "      <th>141</th>\n",
       "      <td>C536379</td>\n",
       "      <td>D</td>\n",
       "      <td>Discount</td>\n",
       "      <td>-1</td>\n",
       "      <td>2010-12-01 09:41:00</td>\n",
       "      <td>27.50</td>\n",
       "      <td>14527.0</td>\n",
       "      <td>United Kingdom</td>\n",
       "    </tr>\n",
       "    <tr>\n",
       "      <th>154</th>\n",
       "      <td>C536383</td>\n",
       "      <td>35004C</td>\n",
       "      <td>SET OF 3 COLOURED  FLYING DUCKS</td>\n",
       "      <td>-1</td>\n",
       "      <td>2010-12-01 09:49:00</td>\n",
       "      <td>4.65</td>\n",
       "      <td>15311.0</td>\n",
       "      <td>United Kingdom</td>\n",
       "    </tr>\n",
       "    <tr>\n",
       "      <th>235</th>\n",
       "      <td>C536391</td>\n",
       "      <td>22556</td>\n",
       "      <td>PLASTERS IN TIN CIRCUS PARADE</td>\n",
       "      <td>-12</td>\n",
       "      <td>2010-12-01 10:24:00</td>\n",
       "      <td>1.65</td>\n",
       "      <td>17548.0</td>\n",
       "      <td>United Kingdom</td>\n",
       "    </tr>\n",
       "    <tr>\n",
       "      <th>236</th>\n",
       "      <td>C536391</td>\n",
       "      <td>21984</td>\n",
       "      <td>PACK OF 12 PINK PAISLEY TISSUES</td>\n",
       "      <td>-24</td>\n",
       "      <td>2010-12-01 10:24:00</td>\n",
       "      <td>0.29</td>\n",
       "      <td>17548.0</td>\n",
       "      <td>United Kingdom</td>\n",
       "    </tr>\n",
       "    <tr>\n",
       "      <th>237</th>\n",
       "      <td>C536391</td>\n",
       "      <td>21983</td>\n",
       "      <td>PACK OF 12 BLUE PAISLEY TISSUES</td>\n",
       "      <td>-24</td>\n",
       "      <td>2010-12-01 10:24:00</td>\n",
       "      <td>0.29</td>\n",
       "      <td>17548.0</td>\n",
       "      <td>United Kingdom</td>\n",
       "    </tr>\n",
       "    <tr>\n",
       "      <th>...</th>\n",
       "      <td>...</td>\n",
       "      <td>...</td>\n",
       "      <td>...</td>\n",
       "      <td>...</td>\n",
       "      <td>...</td>\n",
       "      <td>...</td>\n",
       "      <td>...</td>\n",
       "      <td>...</td>\n",
       "    </tr>\n",
       "    <tr>\n",
       "      <th>540449</th>\n",
       "      <td>C581490</td>\n",
       "      <td>23144</td>\n",
       "      <td>ZINC T-LIGHT HOLDER STARS SMALL</td>\n",
       "      <td>-11</td>\n",
       "      <td>2011-12-09 09:57:00</td>\n",
       "      <td>0.83</td>\n",
       "      <td>14397.0</td>\n",
       "      <td>United Kingdom</td>\n",
       "    </tr>\n",
       "    <tr>\n",
       "      <th>541541</th>\n",
       "      <td>C581499</td>\n",
       "      <td>M</td>\n",
       "      <td>Manual</td>\n",
       "      <td>-1</td>\n",
       "      <td>2011-12-09 10:28:00</td>\n",
       "      <td>224.69</td>\n",
       "      <td>15498.0</td>\n",
       "      <td>United Kingdom</td>\n",
       "    </tr>\n",
       "    <tr>\n",
       "      <th>541715</th>\n",
       "      <td>C581568</td>\n",
       "      <td>21258</td>\n",
       "      <td>VICTORIAN SEWING BOX LARGE</td>\n",
       "      <td>-5</td>\n",
       "      <td>2011-12-09 11:57:00</td>\n",
       "      <td>10.95</td>\n",
       "      <td>15311.0</td>\n",
       "      <td>United Kingdom</td>\n",
       "    </tr>\n",
       "    <tr>\n",
       "      <th>541716</th>\n",
       "      <td>C581569</td>\n",
       "      <td>84978</td>\n",
       "      <td>HANGING HEART JAR T-LIGHT HOLDER</td>\n",
       "      <td>-1</td>\n",
       "      <td>2011-12-09 11:58:00</td>\n",
       "      <td>1.25</td>\n",
       "      <td>17315.0</td>\n",
       "      <td>United Kingdom</td>\n",
       "    </tr>\n",
       "    <tr>\n",
       "      <th>541717</th>\n",
       "      <td>C581569</td>\n",
       "      <td>20979</td>\n",
       "      <td>36 PENCILS TUBE RED RETROSPOT</td>\n",
       "      <td>-5</td>\n",
       "      <td>2011-12-09 11:58:00</td>\n",
       "      <td>1.25</td>\n",
       "      <td>17315.0</td>\n",
       "      <td>United Kingdom</td>\n",
       "    </tr>\n",
       "  </tbody>\n",
       "</table>\n",
       "<p>8872 rows × 8 columns</p>\n",
       "</div>"
      ],
      "text/plain": [
       "       InvoiceNo StockCode                       Description  Quantity  \\\n",
       "141      C536379         D                          Discount        -1   \n",
       "154      C536383    35004C   SET OF 3 COLOURED  FLYING DUCKS        -1   \n",
       "235      C536391     22556    PLASTERS IN TIN CIRCUS PARADE        -12   \n",
       "236      C536391     21984  PACK OF 12 PINK PAISLEY TISSUES        -24   \n",
       "237      C536391     21983  PACK OF 12 BLUE PAISLEY TISSUES        -24   \n",
       "...          ...       ...                               ...       ...   \n",
       "540449   C581490     23144   ZINC T-LIGHT HOLDER STARS SMALL       -11   \n",
       "541541   C581499         M                            Manual        -1   \n",
       "541715   C581568     21258        VICTORIAN SEWING BOX LARGE        -5   \n",
       "541716   C581569     84978  HANGING HEART JAR T-LIGHT HOLDER        -1   \n",
       "541717   C581569     20979     36 PENCILS TUBE RED RETROSPOT        -5   \n",
       "\n",
       "               InvoiceDate  UnitPrice  CustomerID         Country  \n",
       "141    2010-12-01 09:41:00      27.50     14527.0  United Kingdom  \n",
       "154    2010-12-01 09:49:00       4.65     15311.0  United Kingdom  \n",
       "235    2010-12-01 10:24:00       1.65     17548.0  United Kingdom  \n",
       "236    2010-12-01 10:24:00       0.29     17548.0  United Kingdom  \n",
       "237    2010-12-01 10:24:00       0.29     17548.0  United Kingdom  \n",
       "...                    ...        ...         ...             ...  \n",
       "540449 2011-12-09 09:57:00       0.83     14397.0  United Kingdom  \n",
       "541541 2011-12-09 10:28:00     224.69     15498.0  United Kingdom  \n",
       "541715 2011-12-09 11:57:00      10.95     15311.0  United Kingdom  \n",
       "541716 2011-12-09 11:58:00       1.25     17315.0  United Kingdom  \n",
       "541717 2011-12-09 11:58:00       1.25     17315.0  United Kingdom  \n",
       "\n",
       "[8872 rows x 8 columns]"
      ]
     },
     "execution_count": 46,
     "metadata": {},
     "output_type": "execute_result"
    }
   ],
   "source": [
    "# Check cancealled orders\n",
    "df_cancelled = df_cleaning[df_cleaning['InvoiceNo'].str.contains('C')]\n",
    "\n",
    "df_cancelled"
   ]
  },
  {
   "cell_type": "markdown",
   "id": "f39d8132-266a-4e16-8866-2f414d74b647",
   "metadata": {},
   "source": [
    "In relation to the attribute 'Invoice Number', it's important to note that any invoice numbers that begin with a 'C' are used to signify a cancellation."
   ]
  },
  {
   "cell_type": "markdown",
   "id": "ee865e12-a5b7-4f3c-a011-45b910509a90",
   "metadata": {},
   "source": [
    "### 2.2 StockCode: Product (item) code. Nominal, a 5-digit integral number uniquely assigned to each distinct product."
   ]
  },
  {
   "cell_type": "markdown",
   "id": "d52b9214-5c62-4eb8-a4a5-94a690286624",
   "metadata": {},
   "source": [
    "To handle the StockCode column that contains both integers and strings, it's necessary to first convert the entire column to a uniform data type, specifically, to string."
   ]
  },
  {
   "cell_type": "code",
   "execution_count": 47,
   "id": "8a7015c3-51db-4b97-90eb-3933f6baadfe",
   "metadata": {},
   "outputs": [
    {
     "data": {
      "text/plain": [
       "dtype('O')"
      ]
     },
     "execution_count": 47,
     "metadata": {},
     "output_type": "execute_result"
    }
   ],
   "source": [
    "df_cleaning['StockCode'] = df_cleaning['StockCode'].astype('str')\n",
    "\n",
    "df_cleaning['StockCode'].dtypes"
   ]
  },
  {
   "cell_type": "markdown",
   "id": "1dc87d9e-3273-4d46-bcb7-cdabb3349bf6",
   "metadata": {},
   "source": [
    "### 2.3 Description: Product (item) name. Nominal."
   ]
  },
  {
   "cell_type": "markdown",
   "id": "cd86dc14-0ad0-4cb2-967e-debd018ecb51",
   "metadata": {},
   "source": [
    "To handle the Description column that contains both integers and strings, it's necessary to first convert the entire column to a uniform data type, specifically, to string."
   ]
  },
  {
   "cell_type": "code",
   "execution_count": 48,
   "id": "d215eb12-5afa-48b2-b25c-3972378fff81",
   "metadata": {},
   "outputs": [
    {
     "data": {
      "text/plain": [
       "dtype('O')"
      ]
     },
     "execution_count": 48,
     "metadata": {},
     "output_type": "execute_result"
    }
   ],
   "source": [
    "df_cleaning['Description'] = df_cleaning['Description'].astype('str')\n",
    "\n",
    "df_cleaning['Description'].dtypes"
   ]
  },
  {
   "cell_type": "markdown",
   "id": "a974a214-df3e-4342-ab97-fc234a582d7d",
   "metadata": {},
   "source": [
    "### 2.4 Quantity: The quantities of each product (item) per transaction. Numeric."
   ]
  },
  {
   "cell_type": "markdown",
   "id": "57e8ed4c-3f32-4d5f-b2ef-bc262929ddb2",
   "metadata": {},
   "source": [
    "There's no necessity to alter the data type of this particular column."
   ]
  },
  {
   "cell_type": "markdown",
   "id": "53d4474b-0dc8-47e9-97a3-5bbc0042bfff",
   "metadata": {},
   "source": [
    "### 2.5 InvoiceDate: Invoice Date and time. Numeric, the day and time when each transaction was generated."
   ]
  },
  {
   "cell_type": "markdown",
   "id": "8f4b62ef-ae10-40ae-b9d6-98145a7606a7",
   "metadata": {},
   "source": [
    "There's no necessity to alter the data type of this particular column."
   ]
  },
  {
   "cell_type": "markdown",
   "id": "c925b40e-61d7-405b-b245-434dd4ada8f5",
   "metadata": {},
   "source": [
    "### 2.6 UnitPrice: Unit price. Numeric, Product price per unit in sterling."
   ]
  },
  {
   "cell_type": "markdown",
   "id": "f04c728d-5936-42cc-9828-ebdc3b5c70c1",
   "metadata": {},
   "source": [
    "There's no necessity to alter the data type of this particular column."
   ]
  },
  {
   "cell_type": "markdown",
   "id": "a4c2a520-d858-4ac9-b0fd-d4407dc0c56e",
   "metadata": {},
   "source": [
    "### 2.7 CustomerID: Customer number. Nominal, a 5-digit integral number uniquely assigned to each customer."
   ]
  },
  {
   "cell_type": "markdown",
   "id": "e5d47a1c-a4b4-465c-a773-db066ca1a2ae",
   "metadata": {},
   "source": [
    "Change the column of CustomerID from float to integer, and then to string"
   ]
  },
  {
   "cell_type": "code",
   "execution_count": 49,
   "id": "09f12dfd-2cf3-474b-ab42-1f8b94215ac1",
   "metadata": {},
   "outputs": [
    {
     "data": {
      "text/plain": [
       "dtype('O')"
      ]
     },
     "execution_count": 49,
     "metadata": {},
     "output_type": "execute_result"
    }
   ],
   "source": [
    "df_cleaning['CustomerID'] = df_cleaning['CustomerID'].astype('int').astype('str')\n",
    "\n",
    "df_cleaning['CustomerID'].dtypes"
   ]
  },
  {
   "cell_type": "code",
   "execution_count": 50,
   "id": "3eff02f9-00dc-4c74-b3a3-0d9441804d0c",
   "metadata": {},
   "outputs": [
    {
     "data": {
      "text/html": [
       "<div>\n",
       "<style scoped>\n",
       "    .dataframe tbody tr th:only-of-type {\n",
       "        vertical-align: middle;\n",
       "    }\n",
       "\n",
       "    .dataframe tbody tr th {\n",
       "        vertical-align: top;\n",
       "    }\n",
       "\n",
       "    .dataframe thead th {\n",
       "        text-align: right;\n",
       "    }\n",
       "</style>\n",
       "<table border=\"1\" class=\"dataframe\">\n",
       "  <thead>\n",
       "    <tr style=\"text-align: right;\">\n",
       "      <th></th>\n",
       "      <th>CustomerID</th>\n",
       "    </tr>\n",
       "  </thead>\n",
       "  <tbody>\n",
       "    <tr>\n",
       "      <th>0</th>\n",
       "      <td>17850</td>\n",
       "    </tr>\n",
       "    <tr>\n",
       "      <th>1</th>\n",
       "      <td>17850</td>\n",
       "    </tr>\n",
       "    <tr>\n",
       "      <th>2</th>\n",
       "      <td>17850</td>\n",
       "    </tr>\n",
       "    <tr>\n",
       "      <th>3</th>\n",
       "      <td>17850</td>\n",
       "    </tr>\n",
       "    <tr>\n",
       "      <th>4</th>\n",
       "      <td>17850</td>\n",
       "    </tr>\n",
       "  </tbody>\n",
       "</table>\n",
       "</div>"
      ],
      "text/plain": [
       "  CustomerID\n",
       "0      17850\n",
       "1      17850\n",
       "2      17850\n",
       "3      17850\n",
       "4      17850"
      ]
     },
     "execution_count": 50,
     "metadata": {},
     "output_type": "execute_result"
    }
   ],
   "source": [
    "df_cleaning[['CustomerID']].head()"
   ]
  },
  {
   "cell_type": "markdown",
   "id": "ee25483d-3475-4786-bf5e-835cd1a12d61",
   "metadata": {},
   "source": [
    "### 2.8 Country: Country name. Nominal, the name of the country where each customer resides. "
   ]
  },
  {
   "cell_type": "markdown",
   "id": "247e532e-0f34-4904-9a02-f41474a1b23d",
   "metadata": {},
   "source": [
    "There's no necessity to alter the data type of this particular column."
   ]
  },
  {
   "cell_type": "markdown",
   "id": "8df299f6-fbf6-44d7-b6b4-e41179d9710c",
   "metadata": {},
   "source": [
    "# 3. Observations Deletion"
   ]
  },
  {
   "cell_type": "markdown",
   "id": "3e14dd1c-0863-4146-b50c-fe85f8971afb",
   "metadata": {},
   "source": [
    "1. The presence of negative quantities indicates that the corresponding items were purchased prior to the given transaction date. However, our dataset only contains records from December 2010 onwards. If there's no match for these records, it's likely that the original purchase occurred before December 2010. Therefore, such records should be considered inaccurate for our analysis and we should remove them. \n",
    "2. Alternatively, one cancelled order may correspond to one or more previous orders, or orders might exist before or after December 2010. Given that our data commences from December 2010, it can be a challenging task to accurately link a cancelled order with a specific previous order. Here's a simplified approach I'm using to address this issue: I start by looping from the closest previous order that matches the cancelled order. If the sum of the cancelled order's quantity and the order's cancelledQuantity is less than the order's quantity, I simply add the quantity of the cancelled order to the cancelledQuantity. However, if this isn't the case, I equalize the order's cancelledQuantity to the order's quantity, and then update the cancelled order's quantity to reflect the difference."
   ]
  },
  {
   "cell_type": "code",
   "execution_count": 51,
   "id": "5db44180-cfa4-4a76-a86d-789928301172",
   "metadata": {},
   "outputs": [],
   "source": [
    "tran_before = []\n",
    "tran_cur = []\n",
    "\n",
    "df_cleaning['CancelledQuantity'] = 0\n",
    "\n",
    "for index, col in df_cleaning[df_cleaning['InvoiceNo'].str.contains('C')].iterrows():\n",
    "    previous_order = df_cleaning[(df_cleaning['CustomerID'] == col['CustomerID']) & \n",
    "                (df_cleaning['StockCode'] == col['StockCode']) & \n",
    "                (df_cleaning['InvoiceDate'] < col['InvoiceDate']) & \n",
    "                (df_cleaning['Quantity'] > 0)].copy()\n",
    "    if (previous_order.shape[0] == 0):\n",
    "        tran_before.append(index)\n",
    "    else:\n",
    "        cur_quantity = -col['Quantity']\n",
    "        # tran_cur.extend(list(previous_order.index))\n",
    "        for i in list(previous_order.index)[::-1]:\n",
    "            if df_cleaning.loc[i, 'CancelledQuantity'] >= df_cleaning.loc[i, 'Quantity']:\n",
    "                continue\n",
    "            if df_cleaning.loc[i, 'Quantity'] >= df_cleaning.loc[i, 'CancelledQuantity'] + cur_quantity:\n",
    "                df_cleaning.loc[i, 'CancelledQuantity'] += cur_quantity\n",
    "                break\n",
    "            else:\n",
    "                cur_quantity -= (df_cleaning.loc[i, 'Quantity'] - df_cleaning.loc[i, 'CancelledQuantity'])\n",
    "                df_cleaning.loc[i, 'CancelledQuantity'] = df_cleaning.loc[i, 'Quantity']\n",
    "                \n",
    "        tran_cur.append(index)"
   ]
  },
  {
   "cell_type": "code",
   "execution_count": 52,
   "id": "177dbcc7-1044-47fe-bc95-1aeb582159aa",
   "metadata": {},
   "outputs": [
    {
     "data": {
      "text/plain": [
       "1303"
      ]
     },
     "execution_count": 52,
     "metadata": {},
     "output_type": "execute_result"
    }
   ],
   "source": [
    "len(tran_before)"
   ]
  },
  {
   "cell_type": "code",
   "execution_count": 53,
   "id": "b4c85a73-fdb3-4856-aae7-4d66efbcac34",
   "metadata": {},
   "outputs": [
    {
     "data": {
      "text/plain": [
       "7569"
      ]
     },
     "execution_count": 53,
     "metadata": {},
     "output_type": "execute_result"
    }
   ],
   "source": [
    "tran_cur = list(set(tran_cur))\n",
    "len(tran_cur)"
   ]
  },
  {
   "cell_type": "code",
   "execution_count": 54,
   "id": "508906b5-8d72-4c08-ad68-585981a88060",
   "metadata": {},
   "outputs": [],
   "source": [
    "df_cleaning.drop(tran_before, inplace = True)\n",
    "df_cleaning.drop(tran_cur, inplace = True)"
   ]
  },
  {
   "cell_type": "markdown",
   "id": "49e5debc-958f-4bc9-92ec-9fd6a444c12c",
   "metadata": {},
   "source": [
    "# 4. Export Cleaning Data"
   ]
  },
  {
   "cell_type": "code",
   "execution_count": 55,
   "id": "31cc94cb-7419-469f-96e2-fdf984d5a4c7",
   "metadata": {},
   "outputs": [],
   "source": [
    "df_cleaning.to_csv('../data/cleaning_data.csv', index = False)"
   ]
  },
  {
   "cell_type": "code",
   "execution_count": null,
   "id": "fa8edccb-be33-4bbb-ab92-fcd94f365dbf",
   "metadata": {},
   "outputs": [],
   "source": []
  }
 ],
 "metadata": {
  "kernelspec": {
   "display_name": "Python 3 (ipykernel)",
   "language": "python",
   "name": "python3"
  },
  "language_info": {
   "codemirror_mode": {
    "name": "ipython",
    "version": 3
   },
   "file_extension": ".py",
   "mimetype": "text/x-python",
   "name": "python",
   "nbconvert_exporter": "python",
   "pygments_lexer": "ipython3",
   "version": "3.9.16"
  }
 },
 "nbformat": 4,
 "nbformat_minor": 5
}
